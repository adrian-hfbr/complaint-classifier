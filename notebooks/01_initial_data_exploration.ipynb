{
 "cells": [
  {
   "cell_type": "markdown",
   "metadata": {},
   "source": [
    "\n",
    "https://www.kaggle.com/datasets/sherrytp/consumer-complaints?resource=download\n",
    "The Consumer Complaint Database is a collection of complaints about consumer financial products and services that we sent to companies for response. Complaints are published after the company responds, confirming a commercial relationship with the consumer, or after 15 days, whichever comes first. Complaints referred to other regulators, such as complaints about depository institutions with less than $10 billion in assets, are not published in the Consumer Complaint Database. The database generally updates daily."
   ]
  },
  {
   "cell_type": "markdown",
   "metadata": {},
   "source": [
    "\n",
    "=> Use this dataset to classify what product or service a complaint is pointing to, given the complaint narrative provided by the customer. "
   ]
  },
  {
   "cell_type": "code",
   "execution_count": null,
   "metadata": {},
   "outputs": [],
   "source": [
    "import pandas as pd\n",
    "import matplotlib.pyplot as plt\n",
    "import seaborn as sns"
   ]
  },
  {
   "cell_type": "markdown",
   "metadata": {},
   "source": [
    "---"
   ]
  },
  {
   "cell_type": "markdown",
   "metadata": {},
   "source": [
    "# SETUP"
   ]
  },
  {
   "cell_type": "markdown",
   "metadata": {},
   "source": [
    "Next cells are about: the number of entries, column names, data types, and the presence of missing values."
   ]
  },
  {
   "cell_type": "code",
   "execution_count": null,
   "metadata": {},
   "outputs": [],
   "source": [
    "sns.set_style(\"whitegrid\")\n",
    "\n",
    "df = pd.read_csv('../data/complaints.csv')\n",
    "\n",
    "# --- Initial Inspection ---\n",
    "print(\"--- Dataset Shape ---\")\n",
    "print(df.shape)\n",
    "print(\"\\n--- Column Info and Missing Values ---\")\n",
    "df.info()"
   ]
  },
  {
   "cell_type": "code",
   "execution_count": null,
   "metadata": {},
   "outputs": [],
   "source": [
    "print(\"\\n--- First 5 Rows ---\")\n",
    "pd.set_option('display.max_colwidth', 100) # Widen column display for narratives\n",
    "print(df.head())"
   ]
  },
  {
   "cell_type": "markdown",
   "metadata": {},
   "source": [
    "---"
   ]
  },
  {
   "cell_type": "markdown",
   "metadata": {},
   "source": [
    "# Target Variable Analysis: 'Product'"
   ]
  },
  {
   "cell_type": "markdown",
   "metadata": {},
   "source": [
    "Next cell is about: Understanding the distribution of your target variable 'Product', critical for any classification task"
   ]
  },
  {
   "cell_type": "code",
   "execution_count": null,
   "metadata": {},
   "outputs": [],
   "source": [
    "# Define target and feature columns for clarity\n",
    "target_column = 'Product'\n",
    "feature_column = 'Consumer complaint narrative'\n",
    "\n",
    "# --- Analyze the Target Variable ('Product') ---\n",
    "print(f\"--- Analysis of Target Variable: '{target_column}' ---\")\n",
    "\n",
    "# Get the number of unique product categories\n",
    "num_classes = df[target_column].nunique()\n",
    "print(f\"Number of unique product categories: {num_classes}\")\n",
    "\n",
    "# Get the frequency of each category\n",
    "print(\"\\nDistribution of complaints per product:\")\n",
    "print(df[target_column].value_counts())\n",
    "\n",
    "# --- Visualize the Target Variable Distribution ---\n",
    "plt.figure(figsize=(12, 8))\n",
    "sns.countplot(y=df[target_column], order=df[target_column].value_counts().index, palette='viridis')\n",
    "plt.title('Frequency of Complaints per Product Category', fontsize=16)\n",
    "plt.xlabel('Number of Complaints', fontsize=12)\n",
    "plt.ylabel('Product Category', fontsize=12)\n",
    "plt.xticks(fontsize=10)\n",
    "plt.yticks(fontsize=10)\n",
    "plt.tight_layout()\n",
    "plt.show()"
   ]
  },
  {
   "cell_type": "markdown",
   "metadata": {},
   "source": [
    "#### Finding 3: Overlapping Product Categories\n",
    "\n",
    "**Observation:** The `Product` column contains several overlapping and redundant categories. For example, `Credit card` is a sub-category of `Credit card or prepaid card`.\n",
    "\n",
    "**Risk:** This ambiguity will confuse the model and make performance evaluation unreliable.\n",
    "\n",
    "**Decision:** I will consolidate these sub-categories into their more general parent categories. This will create a cleaner, mutually exclusive set of target labels. The specific mapping rules will be implemented as a function in the `src/preprocessing.py` module."
   ]
  },
  {
   "cell_type": "markdown",
   "metadata": {},
   "source": [
    "----"
   ]
  },
  {
   "cell_type": "markdown",
   "metadata": {},
   "source": [
    "# Feature Variable Analysis: 'Consumer complaint narrative'"
   ]
  },
  {
   "cell_type": "markdown",
   "metadata": {},
   "source": [
    "Next cell is about: understanding the characteristics of the feature variable"
   ]
  },
  {
   "cell_type": "code",
   "execution_count": null,
   "metadata": {},
   "outputs": [],
   "source": [
    "# --- Analyze the Feature Variable ('Consumer complaint narrative') ---\n",
    "print(f\"\\n--- Analysis of Feature Variable: '{feature_column}' ---\")\n",
    "\n",
    "# Check for missing values in the narrative column\n",
    "missing_narratives = df[feature_column].isnull().sum()\n",
    "print(f\"Number of missing narratives: {missing_narratives}\")\n",
    "print(f\"Percentage of missing narratives: {missing_narratives / len(df) * 100:.2f}%\")\n",
    "\n",
    "# Decision: For a baseline, we'll remove rows with missing narratives.\n",
    "df_clean = df.dropna(subset=[feature_column]).copy()\n",
    "\n",
    "# --- Analyze the length of complaint narratives ---\n",
    "df_clean['narrative_len'] = df_clean[feature_column].str.len()\n",
    "\n",
    "print(\"\\n--- Basic Statistics for Narrative Length ---\")\n",
    "print(df_clean['narrative_len'].describe())\n",
    "\n",
    "# --- Visualize the Narrative Length Distribution ---\n",
    "plt.figure(figsize=(12, 6))\n",
    "sns.histplot(df_clean['narrative_len'], bins=50, kde=True)\n",
    "plt.title('Distribution of Complaint Narrative Lengths', fontsize=16)\n",
    "plt.xlabel('Length of Narrative (number of characters)', fontsize=12)\n",
    "plt.ylabel('Frequency', fontsize=12)\n",
    "plt.xlim(0, 5000)\n",
    "plt.show()"
   ]
  },
  {
   "cell_type": "markdown",
   "metadata": {},
   "source": [
    "## EDA Conclusion and Preprocessing Strategy\n",
    "\n",
    "### Key Data Findings & Technical Plan\n",
    "\n",
    "This analysis focuses on the technical characteristics of the data and the immediate actions required for preprocessing.\n",
    "\n",
    "1.  **Missing Narratives (64%):** A majority of the dataset lacks a consumer complaint narrative. This is a feature of the data source, where consumers must consent to publication.\n",
    "    * **Action:** For model training, all rows with missing narratives will be dropped.\n",
    "    * **Impact:** This reduces the training set size to ~1.1 million entries and introduces a consent-based selection bias.\n",
    "\n",
    "2.  **Right-Skewed Narrative Length:** The complaint texts vary significantly in length, with a long tail of extremely lengthy complaints.\n",
    "    * **Action:** The baseline TF-IDF vectorizer is robust to this variance, so no special truncation is needed for this phase.\n",
    "\n",
    "\n",
    "### Analysis of Systemic Biases & Data Limitations\n",
    "\n",
    "1.  **Regulatory Bias:** The database explicitly excludes complaints against depository institutions with less than $10 billion in assets. The model will therefore be specialized for the products and complaint patterns of **larger financial institutions**.\n",
    "\n",
    "2.  **Company Response Bias:** The publication process is tied to a company's response or a 15-day waiting period. This means the dataset is a **curated subset** of all filed complaints, not a raw feed.\n",
    "\n",
    "**Overall Conclusion:** The final training data represents complaints made against large institutions, which were acknowledged by those institutions, and where the consumer consented to share their story. These limitations are critical for defining the model's scope."
   ]
  },
  {
   "cell_type": "code",
   "execution_count": null,
   "metadata": {},
   "outputs": [],
   "source": []
  },
  {
   "cell_type": "code",
   "execution_count": null,
   "metadata": {},
   "outputs": [],
   "source": []
  }
 ],
 "metadata": {
  "kernelspec": {
   "display_name": "Python 3",
   "language": "python",
   "name": "python3"
  },
  "language_info": {
   "codemirror_mode": {
    "name": "ipython",
    "version": 3
   },
   "file_extension": ".py",
   "mimetype": "text/x-python",
   "name": "python",
   "nbconvert_exporter": "python",
   "pygments_lexer": "ipython3",
   "version": "3.12.3"
  }
 },
 "nbformat": 4,
 "nbformat_minor": 2
}
